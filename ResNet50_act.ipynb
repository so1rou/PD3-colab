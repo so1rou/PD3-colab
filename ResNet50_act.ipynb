{
  "nbformat": 4,
  "nbformat_minor": 0,
  "metadata": {
    "colab": {
      "provenance": [],
      "authorship_tag": "ABX9TyMCn8qOSrR83jbXe+ge4G+M",
      "include_colab_link": true
    },
    "kernelspec": {
      "name": "python3",
      "display_name": "Python 3"
    },
    "language_info": {
      "name": "python"
    },
    "gpuClass": "standard",
    "widgets": {
      "application/vnd.jupyter.widget-state+json": {
        "aff16c07e2e8457c9870ff29f92dc033": {
          "model_module": "@jupyter-widgets/controls",
          "model_name": "HBoxModel",
          "model_module_version": "1.5.0",
          "state": {
            "_dom_classes": [],
            "_model_module": "@jupyter-widgets/controls",
            "_model_module_version": "1.5.0",
            "_model_name": "HBoxModel",
            "_view_count": null,
            "_view_module": "@jupyter-widgets/controls",
            "_view_module_version": "1.5.0",
            "_view_name": "HBoxView",
            "box_style": "",
            "children": [
              "IPY_MODEL_fb6bb02505eb4e27880a315453a7860a",
              "IPY_MODEL_cb6cf83236d44e86a7d26745e8d88878",
              "IPY_MODEL_ef8ba50266eb4143964a63ecd7b1dc95"
            ],
            "layout": "IPY_MODEL_1385f9671a754aaf96ef76beb72c33a6"
          }
        },
        "fb6bb02505eb4e27880a315453a7860a": {
          "model_module": "@jupyter-widgets/controls",
          "model_name": "HTMLModel",
          "model_module_version": "1.5.0",
          "state": {
            "_dom_classes": [],
            "_model_module": "@jupyter-widgets/controls",
            "_model_module_version": "1.5.0",
            "_model_name": "HTMLModel",
            "_view_count": null,
            "_view_module": "@jupyter-widgets/controls",
            "_view_module_version": "1.5.0",
            "_view_name": "HTMLView",
            "description": "",
            "description_tooltip": null,
            "layout": "IPY_MODEL_7d4ece35edba439c889eb51d38e72f62",
            "placeholder": "​",
            "style": "IPY_MODEL_5ec15149d1414c34beae8108166ecee8",
            "value": "100%"
          }
        },
        "cb6cf83236d44e86a7d26745e8d88878": {
          "model_module": "@jupyter-widgets/controls",
          "model_name": "FloatProgressModel",
          "model_module_version": "1.5.0",
          "state": {
            "_dom_classes": [],
            "_model_module": "@jupyter-widgets/controls",
            "_model_module_version": "1.5.0",
            "_model_name": "FloatProgressModel",
            "_view_count": null,
            "_view_module": "@jupyter-widgets/controls",
            "_view_module_version": "1.5.0",
            "_view_name": "ProgressView",
            "bar_style": "success",
            "description": "",
            "description_tooltip": null,
            "layout": "IPY_MODEL_e9539914b62547a6a69519b57f18a359",
            "max": 102530333,
            "min": 0,
            "orientation": "horizontal",
            "style": "IPY_MODEL_c4f447130a294edb9c1129a2eacd45ad",
            "value": 102530333
          }
        },
        "ef8ba50266eb4143964a63ecd7b1dc95": {
          "model_module": "@jupyter-widgets/controls",
          "model_name": "HTMLModel",
          "model_module_version": "1.5.0",
          "state": {
            "_dom_classes": [],
            "_model_module": "@jupyter-widgets/controls",
            "_model_module_version": "1.5.0",
            "_model_name": "HTMLModel",
            "_view_count": null,
            "_view_module": "@jupyter-widgets/controls",
            "_view_module_version": "1.5.0",
            "_view_name": "HTMLView",
            "description": "",
            "description_tooltip": null,
            "layout": "IPY_MODEL_3b201e13be044b40810de41684c8f239",
            "placeholder": "​",
            "style": "IPY_MODEL_51d5b46b7bde4e8c94ae7f98180efff0",
            "value": " 97.8M/97.8M [00:00&lt;00:00, 163MB/s]"
          }
        },
        "1385f9671a754aaf96ef76beb72c33a6": {
          "model_module": "@jupyter-widgets/base",
          "model_name": "LayoutModel",
          "model_module_version": "1.2.0",
          "state": {
            "_model_module": "@jupyter-widgets/base",
            "_model_module_version": "1.2.0",
            "_model_name": "LayoutModel",
            "_view_count": null,
            "_view_module": "@jupyter-widgets/base",
            "_view_module_version": "1.2.0",
            "_view_name": "LayoutView",
            "align_content": null,
            "align_items": null,
            "align_self": null,
            "border": null,
            "bottom": null,
            "display": null,
            "flex": null,
            "flex_flow": null,
            "grid_area": null,
            "grid_auto_columns": null,
            "grid_auto_flow": null,
            "grid_auto_rows": null,
            "grid_column": null,
            "grid_gap": null,
            "grid_row": null,
            "grid_template_areas": null,
            "grid_template_columns": null,
            "grid_template_rows": null,
            "height": null,
            "justify_content": null,
            "justify_items": null,
            "left": null,
            "margin": null,
            "max_height": null,
            "max_width": null,
            "min_height": null,
            "min_width": null,
            "object_fit": null,
            "object_position": null,
            "order": null,
            "overflow": null,
            "overflow_x": null,
            "overflow_y": null,
            "padding": null,
            "right": null,
            "top": null,
            "visibility": null,
            "width": null
          }
        },
        "7d4ece35edba439c889eb51d38e72f62": {
          "model_module": "@jupyter-widgets/base",
          "model_name": "LayoutModel",
          "model_module_version": "1.2.0",
          "state": {
            "_model_module": "@jupyter-widgets/base",
            "_model_module_version": "1.2.0",
            "_model_name": "LayoutModel",
            "_view_count": null,
            "_view_module": "@jupyter-widgets/base",
            "_view_module_version": "1.2.0",
            "_view_name": "LayoutView",
            "align_content": null,
            "align_items": null,
            "align_self": null,
            "border": null,
            "bottom": null,
            "display": null,
            "flex": null,
            "flex_flow": null,
            "grid_area": null,
            "grid_auto_columns": null,
            "grid_auto_flow": null,
            "grid_auto_rows": null,
            "grid_column": null,
            "grid_gap": null,
            "grid_row": null,
            "grid_template_areas": null,
            "grid_template_columns": null,
            "grid_template_rows": null,
            "height": null,
            "justify_content": null,
            "justify_items": null,
            "left": null,
            "margin": null,
            "max_height": null,
            "max_width": null,
            "min_height": null,
            "min_width": null,
            "object_fit": null,
            "object_position": null,
            "order": null,
            "overflow": null,
            "overflow_x": null,
            "overflow_y": null,
            "padding": null,
            "right": null,
            "top": null,
            "visibility": null,
            "width": null
          }
        },
        "5ec15149d1414c34beae8108166ecee8": {
          "model_module": "@jupyter-widgets/controls",
          "model_name": "DescriptionStyleModel",
          "model_module_version": "1.5.0",
          "state": {
            "_model_module": "@jupyter-widgets/controls",
            "_model_module_version": "1.5.0",
            "_model_name": "DescriptionStyleModel",
            "_view_count": null,
            "_view_module": "@jupyter-widgets/base",
            "_view_module_version": "1.2.0",
            "_view_name": "StyleView",
            "description_width": ""
          }
        },
        "e9539914b62547a6a69519b57f18a359": {
          "model_module": "@jupyter-widgets/base",
          "model_name": "LayoutModel",
          "model_module_version": "1.2.0",
          "state": {
            "_model_module": "@jupyter-widgets/base",
            "_model_module_version": "1.2.0",
            "_model_name": "LayoutModel",
            "_view_count": null,
            "_view_module": "@jupyter-widgets/base",
            "_view_module_version": "1.2.0",
            "_view_name": "LayoutView",
            "align_content": null,
            "align_items": null,
            "align_self": null,
            "border": null,
            "bottom": null,
            "display": null,
            "flex": null,
            "flex_flow": null,
            "grid_area": null,
            "grid_auto_columns": null,
            "grid_auto_flow": null,
            "grid_auto_rows": null,
            "grid_column": null,
            "grid_gap": null,
            "grid_row": null,
            "grid_template_areas": null,
            "grid_template_columns": null,
            "grid_template_rows": null,
            "height": null,
            "justify_content": null,
            "justify_items": null,
            "left": null,
            "margin": null,
            "max_height": null,
            "max_width": null,
            "min_height": null,
            "min_width": null,
            "object_fit": null,
            "object_position": null,
            "order": null,
            "overflow": null,
            "overflow_x": null,
            "overflow_y": null,
            "padding": null,
            "right": null,
            "top": null,
            "visibility": null,
            "width": null
          }
        },
        "c4f447130a294edb9c1129a2eacd45ad": {
          "model_module": "@jupyter-widgets/controls",
          "model_name": "ProgressStyleModel",
          "model_module_version": "1.5.0",
          "state": {
            "_model_module": "@jupyter-widgets/controls",
            "_model_module_version": "1.5.0",
            "_model_name": "ProgressStyleModel",
            "_view_count": null,
            "_view_module": "@jupyter-widgets/base",
            "_view_module_version": "1.2.0",
            "_view_name": "StyleView",
            "bar_color": null,
            "description_width": ""
          }
        },
        "3b201e13be044b40810de41684c8f239": {
          "model_module": "@jupyter-widgets/base",
          "model_name": "LayoutModel",
          "model_module_version": "1.2.0",
          "state": {
            "_model_module": "@jupyter-widgets/base",
            "_model_module_version": "1.2.0",
            "_model_name": "LayoutModel",
            "_view_count": null,
            "_view_module": "@jupyter-widgets/base",
            "_view_module_version": "1.2.0",
            "_view_name": "LayoutView",
            "align_content": null,
            "align_items": null,
            "align_self": null,
            "border": null,
            "bottom": null,
            "display": null,
            "flex": null,
            "flex_flow": null,
            "grid_area": null,
            "grid_auto_columns": null,
            "grid_auto_flow": null,
            "grid_auto_rows": null,
            "grid_column": null,
            "grid_gap": null,
            "grid_row": null,
            "grid_template_areas": null,
            "grid_template_columns": null,
            "grid_template_rows": null,
            "height": null,
            "justify_content": null,
            "justify_items": null,
            "left": null,
            "margin": null,
            "max_height": null,
            "max_width": null,
            "min_height": null,
            "min_width": null,
            "object_fit": null,
            "object_position": null,
            "order": null,
            "overflow": null,
            "overflow_x": null,
            "overflow_y": null,
            "padding": null,
            "right": null,
            "top": null,
            "visibility": null,
            "width": null
          }
        },
        "51d5b46b7bde4e8c94ae7f98180efff0": {
          "model_module": "@jupyter-widgets/controls",
          "model_name": "DescriptionStyleModel",
          "model_module_version": "1.5.0",
          "state": {
            "_model_module": "@jupyter-widgets/controls",
            "_model_module_version": "1.5.0",
            "_model_name": "DescriptionStyleModel",
            "_view_count": null,
            "_view_module": "@jupyter-widgets/base",
            "_view_module_version": "1.2.0",
            "_view_name": "StyleView",
            "description_width": ""
          }
        },
        "582dd5b35fed4926a3f60e3a255b34eb": {
          "model_module": "@jupyter-widgets/controls",
          "model_name": "HBoxModel",
          "model_module_version": "1.5.0",
          "state": {
            "_dom_classes": [],
            "_model_module": "@jupyter-widgets/controls",
            "_model_module_version": "1.5.0",
            "_model_name": "HBoxModel",
            "_view_count": null,
            "_view_module": "@jupyter-widgets/controls",
            "_view_module_version": "1.5.0",
            "_view_name": "HBoxView",
            "box_style": "",
            "children": [
              "IPY_MODEL_f2403bc30fd8411f8c0220caf45ffefa",
              "IPY_MODEL_54c1bd36331e4cb69d21db9810aa7fae",
              "IPY_MODEL_29de864567eb4b0786fc404dda1e0ebb"
            ],
            "layout": "IPY_MODEL_5af8018762ab4ce8a76362d633c0c6ed"
          }
        },
        "f2403bc30fd8411f8c0220caf45ffefa": {
          "model_module": "@jupyter-widgets/controls",
          "model_name": "HTMLModel",
          "model_module_version": "1.5.0",
          "state": {
            "_dom_classes": [],
            "_model_module": "@jupyter-widgets/controls",
            "_model_module_version": "1.5.0",
            "_model_name": "HTMLModel",
            "_view_count": null,
            "_view_module": "@jupyter-widgets/controls",
            "_view_module_version": "1.5.0",
            "_view_name": "HTMLView",
            "description": "",
            "description_tooltip": null,
            "layout": "IPY_MODEL_8d656d917c214246b5e1aa3b943de088",
            "placeholder": "​",
            "style": "IPY_MODEL_f199b7536d254340bdd66e52bc16b6a1",
            "value": "100%"
          }
        },
        "54c1bd36331e4cb69d21db9810aa7fae": {
          "model_module": "@jupyter-widgets/controls",
          "model_name": "FloatProgressModel",
          "model_module_version": "1.5.0",
          "state": {
            "_dom_classes": [],
            "_model_module": "@jupyter-widgets/controls",
            "_model_module_version": "1.5.0",
            "_model_name": "FloatProgressModel",
            "_view_count": null,
            "_view_module": "@jupyter-widgets/controls",
            "_view_module_version": "1.5.0",
            "_view_name": "ProgressView",
            "bar_style": "success",
            "description": "",
            "description_tooltip": null,
            "layout": "IPY_MODEL_51fe7afef828430fadaba541095c0d6b",
            "max": 170498071,
            "min": 0,
            "orientation": "horizontal",
            "style": "IPY_MODEL_885c2227ff8140d3b114b925dafa9eb2",
            "value": 170498071
          }
        },
        "29de864567eb4b0786fc404dda1e0ebb": {
          "model_module": "@jupyter-widgets/controls",
          "model_name": "HTMLModel",
          "model_module_version": "1.5.0",
          "state": {
            "_dom_classes": [],
            "_model_module": "@jupyter-widgets/controls",
            "_model_module_version": "1.5.0",
            "_model_name": "HTMLModel",
            "_view_count": null,
            "_view_module": "@jupyter-widgets/controls",
            "_view_module_version": "1.5.0",
            "_view_name": "HTMLView",
            "description": "",
            "description_tooltip": null,
            "layout": "IPY_MODEL_76471e21dab4493fb0b4050dd990922a",
            "placeholder": "​",
            "style": "IPY_MODEL_6b6e6fd2c44e4ca784f6aab8c59cbff1",
            "value": " 170498071/170498071 [00:13&lt;00:00, 14113484.52it/s]"
          }
        },
        "5af8018762ab4ce8a76362d633c0c6ed": {
          "model_module": "@jupyter-widgets/base",
          "model_name": "LayoutModel",
          "model_module_version": "1.2.0",
          "state": {
            "_model_module": "@jupyter-widgets/base",
            "_model_module_version": "1.2.0",
            "_model_name": "LayoutModel",
            "_view_count": null,
            "_view_module": "@jupyter-widgets/base",
            "_view_module_version": "1.2.0",
            "_view_name": "LayoutView",
            "align_content": null,
            "align_items": null,
            "align_self": null,
            "border": null,
            "bottom": null,
            "display": null,
            "flex": null,
            "flex_flow": null,
            "grid_area": null,
            "grid_auto_columns": null,
            "grid_auto_flow": null,
            "grid_auto_rows": null,
            "grid_column": null,
            "grid_gap": null,
            "grid_row": null,
            "grid_template_areas": null,
            "grid_template_columns": null,
            "grid_template_rows": null,
            "height": null,
            "justify_content": null,
            "justify_items": null,
            "left": null,
            "margin": null,
            "max_height": null,
            "max_width": null,
            "min_height": null,
            "min_width": null,
            "object_fit": null,
            "object_position": null,
            "order": null,
            "overflow": null,
            "overflow_x": null,
            "overflow_y": null,
            "padding": null,
            "right": null,
            "top": null,
            "visibility": null,
            "width": null
          }
        },
        "8d656d917c214246b5e1aa3b943de088": {
          "model_module": "@jupyter-widgets/base",
          "model_name": "LayoutModel",
          "model_module_version": "1.2.0",
          "state": {
            "_model_module": "@jupyter-widgets/base",
            "_model_module_version": "1.2.0",
            "_model_name": "LayoutModel",
            "_view_count": null,
            "_view_module": "@jupyter-widgets/base",
            "_view_module_version": "1.2.0",
            "_view_name": "LayoutView",
            "align_content": null,
            "align_items": null,
            "align_self": null,
            "border": null,
            "bottom": null,
            "display": null,
            "flex": null,
            "flex_flow": null,
            "grid_area": null,
            "grid_auto_columns": null,
            "grid_auto_flow": null,
            "grid_auto_rows": null,
            "grid_column": null,
            "grid_gap": null,
            "grid_row": null,
            "grid_template_areas": null,
            "grid_template_columns": null,
            "grid_template_rows": null,
            "height": null,
            "justify_content": null,
            "justify_items": null,
            "left": null,
            "margin": null,
            "max_height": null,
            "max_width": null,
            "min_height": null,
            "min_width": null,
            "object_fit": null,
            "object_position": null,
            "order": null,
            "overflow": null,
            "overflow_x": null,
            "overflow_y": null,
            "padding": null,
            "right": null,
            "top": null,
            "visibility": null,
            "width": null
          }
        },
        "f199b7536d254340bdd66e52bc16b6a1": {
          "model_module": "@jupyter-widgets/controls",
          "model_name": "DescriptionStyleModel",
          "model_module_version": "1.5.0",
          "state": {
            "_model_module": "@jupyter-widgets/controls",
            "_model_module_version": "1.5.0",
            "_model_name": "DescriptionStyleModel",
            "_view_count": null,
            "_view_module": "@jupyter-widgets/base",
            "_view_module_version": "1.2.0",
            "_view_name": "StyleView",
            "description_width": ""
          }
        },
        "51fe7afef828430fadaba541095c0d6b": {
          "model_module": "@jupyter-widgets/base",
          "model_name": "LayoutModel",
          "model_module_version": "1.2.0",
          "state": {
            "_model_module": "@jupyter-widgets/base",
            "_model_module_version": "1.2.0",
            "_model_name": "LayoutModel",
            "_view_count": null,
            "_view_module": "@jupyter-widgets/base",
            "_view_module_version": "1.2.0",
            "_view_name": "LayoutView",
            "align_content": null,
            "align_items": null,
            "align_self": null,
            "border": null,
            "bottom": null,
            "display": null,
            "flex": null,
            "flex_flow": null,
            "grid_area": null,
            "grid_auto_columns": null,
            "grid_auto_flow": null,
            "grid_auto_rows": null,
            "grid_column": null,
            "grid_gap": null,
            "grid_row": null,
            "grid_template_areas": null,
            "grid_template_columns": null,
            "grid_template_rows": null,
            "height": null,
            "justify_content": null,
            "justify_items": null,
            "left": null,
            "margin": null,
            "max_height": null,
            "max_width": null,
            "min_height": null,
            "min_width": null,
            "object_fit": null,
            "object_position": null,
            "order": null,
            "overflow": null,
            "overflow_x": null,
            "overflow_y": null,
            "padding": null,
            "right": null,
            "top": null,
            "visibility": null,
            "width": null
          }
        },
        "885c2227ff8140d3b114b925dafa9eb2": {
          "model_module": "@jupyter-widgets/controls",
          "model_name": "ProgressStyleModel",
          "model_module_version": "1.5.0",
          "state": {
            "_model_module": "@jupyter-widgets/controls",
            "_model_module_version": "1.5.0",
            "_model_name": "ProgressStyleModel",
            "_view_count": null,
            "_view_module": "@jupyter-widgets/base",
            "_view_module_version": "1.2.0",
            "_view_name": "StyleView",
            "bar_color": null,
            "description_width": ""
          }
        },
        "76471e21dab4493fb0b4050dd990922a": {
          "model_module": "@jupyter-widgets/base",
          "model_name": "LayoutModel",
          "model_module_version": "1.2.0",
          "state": {
            "_model_module": "@jupyter-widgets/base",
            "_model_module_version": "1.2.0",
            "_model_name": "LayoutModel",
            "_view_count": null,
            "_view_module": "@jupyter-widgets/base",
            "_view_module_version": "1.2.0",
            "_view_name": "LayoutView",
            "align_content": null,
            "align_items": null,
            "align_self": null,
            "border": null,
            "bottom": null,
            "display": null,
            "flex": null,
            "flex_flow": null,
            "grid_area": null,
            "grid_auto_columns": null,
            "grid_auto_flow": null,
            "grid_auto_rows": null,
            "grid_column": null,
            "grid_gap": null,
            "grid_row": null,
            "grid_template_areas": null,
            "grid_template_columns": null,
            "grid_template_rows": null,
            "height": null,
            "justify_content": null,
            "justify_items": null,
            "left": null,
            "margin": null,
            "max_height": null,
            "max_width": null,
            "min_height": null,
            "min_width": null,
            "object_fit": null,
            "object_position": null,
            "order": null,
            "overflow": null,
            "overflow_x": null,
            "overflow_y": null,
            "padding": null,
            "right": null,
            "top": null,
            "visibility": null,
            "width": null
          }
        },
        "6b6e6fd2c44e4ca784f6aab8c59cbff1": {
          "model_module": "@jupyter-widgets/controls",
          "model_name": "DescriptionStyleModel",
          "model_module_version": "1.5.0",
          "state": {
            "_model_module": "@jupyter-widgets/controls",
            "_model_module_version": "1.5.0",
            "_model_name": "DescriptionStyleModel",
            "_view_count": null,
            "_view_module": "@jupyter-widgets/base",
            "_view_module_version": "1.2.0",
            "_view_name": "StyleView",
            "description_width": ""
          }
        }
      }
    },
    "accelerator": "GPU"
  },
  "cells": [
    {
      "cell_type": "markdown",
      "metadata": {
        "id": "view-in-github",
        "colab_type": "text"
      },
      "source": [
        "<a href=\"https://colab.research.google.com/github/so1rou/PD3-colab/blob/main/ResNet50_act.ipynb\" target=\"_parent\"><img src=\"https://colab.research.google.com/assets/colab-badge.svg\" alt=\"Open In Colab\"/></a>"
      ]
    },
    {
      "cell_type": "code",
      "execution_count": null,
      "metadata": {
        "id": "4w0grLH-Nbf3",
        "colab": {
          "base_uri": "https://localhost:8080/"
        },
        "outputId": "e61631c9-7408-436e-adb9-a88ea97ea41f"
      },
      "outputs": [
        {
          "output_type": "stream",
          "name": "stdout",
          "text": [
            "Use CUDA: True\n"
          ]
        }
      ],
      "source": [
        "# モジュールのインポート\n",
        "from time import time\n",
        "import numpy as np\n",
        "import torch\n",
        "import torch.nn as nn\n",
        "\n",
        "import torchvision\n",
        "import torchvision.transforms as transforms\n",
        "\n",
        "import torchsummary\n",
        "\n",
        "#ROC曲線作成用\n",
        "import matplotlib.pyplot as plt\n",
        "from sklearn.datasets import make_classification\n",
        "from sklearn.ensemble import RandomForestClassifier\n",
        "from sklearn.model_selection import train_test_split\n",
        "from sklearn.metrics import roc_curve\n",
        "from sklearn.datasets import load_breast_cancer\n",
        "from sklearn.linear_model import LogisticRegression\n",
        "\n",
        "from keras.datasets import cifar10\n",
        "\n",
        "colors = ['#de3838', '#007bc3', '#ffd12a']\n",
        "\n",
        "# GPUの確認\n",
        "use_cuda = torch.cuda.is_available()\n",
        "print('Use CUDA:', use_cuda)\n",
        "device = torch.device('cuda:0' if torch.cuda.is_available() else 'cpu')"
      ]
    },
    {
      "cell_type": "code",
      "source": [
        "transform_train = transforms.Compose([transforms.RandomCrop(32, padding=1),\n",
        "                                      transforms.RandomHorizontalFlip(),\n",
        "                                      transforms.ToTensor()])\n",
        "transform_test = transforms.Compose([transforms.ToTensor()])\n",
        "\n",
        "train_data = torchvision.datasets.CIFAR10(root=\"./\", train=True, transform=transform_train, download=True)\n",
        "test_data = torchvision.datasets.CIFAR10(root=\"./\", train=False, transform=transform_test, download=True)\n",
        "\n",
        "classes = ('plane', 'car', 'bird', 'cat', \n",
        "'deer', 'dog', 'frog', 'horse', 'ship', 'truck')"
      ],
      "metadata": {
        "id": "m_cYAvclNdjE",
        "colab": {
          "base_uri": "https://localhost:8080/",
          "height": 104,
          "referenced_widgets": [
            "582dd5b35fed4926a3f60e3a255b34eb",
            "f2403bc30fd8411f8c0220caf45ffefa",
            "54c1bd36331e4cb69d21db9810aa7fae",
            "29de864567eb4b0786fc404dda1e0ebb",
            "5af8018762ab4ce8a76362d633c0c6ed",
            "8d656d917c214246b5e1aa3b943de088",
            "f199b7536d254340bdd66e52bc16b6a1",
            "51fe7afef828430fadaba541095c0d6b",
            "885c2227ff8140d3b114b925dafa9eb2",
            "76471e21dab4493fb0b4050dd990922a",
            "6b6e6fd2c44e4ca784f6aab8c59cbff1"
          ]
        },
        "outputId": "6059960f-7a58-448a-b33b-c96405786d68"
      },
      "execution_count": null,
      "outputs": [
        {
          "output_type": "stream",
          "name": "stdout",
          "text": [
            "Downloading https://www.cs.toronto.edu/~kriz/cifar-10-python.tar.gz to ./cifar-10-python.tar.gz\n"
          ]
        },
        {
          "output_type": "display_data",
          "data": {
            "text/plain": [
              "  0%|          | 0/170498071 [00:00<?, ?it/s]"
            ],
            "application/vnd.jupyter.widget-view+json": {
              "version_major": 2,
              "version_minor": 0,
              "model_id": "582dd5b35fed4926a3f60e3a255b34eb"
            }
          },
          "metadata": {}
        },
        {
          "output_type": "stream",
          "name": "stdout",
          "text": [
            "Extracting ./cifar-10-python.tar.gz to ./\n",
            "Files already downloaded and verified\n"
          ]
        }
      ]
    },
    {
      "cell_type": "code",
      "execution_count": null,
      "metadata": {
        "id": "AAHq1t-A09Vo"
      },
      "outputs": [],
      "source": [
        "class BasicBlock(nn.Module):\n",
        "    expansion = 1\n",
        "    def __init__(self, inplanes, planes, stride=1, downsample=None):\n",
        "        super().__init__()\n",
        "        self.convs = nn.Sequential(\n",
        "            nn.Conv2d(inplanes, planes, kernel_size=3, stride=stride, padding=1, bias=False),\n",
        "            nn.BatchNorm2d(planes),\n",
        "            nn.ReLU(inplace=True),\n",
        "            nn.Conv2d(planes, planes, kernel_size=3, stride=1, padding=1, bias=False),\n",
        "            nn.BatchNorm2d(planes),\n",
        "        )\n",
        "        self.downsample = downsample\n",
        "        self.relu = nn.ReLU(inplace=True)\n",
        "        self.stride = stride\n",
        "\n",
        "    def forward(self, x):\n",
        "        residual = x\n",
        "        out = self.convs(x)\n",
        "        if self.downsample is not None:\n",
        "            residual = self.downsample(x)\n",
        "        out += residual\n",
        "        out = self.relu(out)\n",
        "        return out\n",
        "\n",
        "\n",
        "class Bottleneck(nn.Module):\n",
        "    expansion = 4\n",
        "    def __init__(self, in_planes, planes, stride=1, downsample=None):\n",
        "        super().__init__()\n",
        "        self.convs = nn.Sequential(\n",
        "            nn.Conv2d(in_planes, planes, kernel_size=1, bias=False),\n",
        "            nn.BatchNorm2d(planes),\n",
        "            nn.ReLU(inplace=True),\n",
        "            nn.Conv2d(planes, planes, kernel_size=3, stride=stride, padding=1, bias=False),\n",
        "            nn.BatchNorm2d(planes),\n",
        "            nn.ReLU(inplace=True),\n",
        "            nn.Conv2d(planes, self.expansion * planes, kernel_size=1, bias=False),\n",
        "            nn.BatchNorm2d(self.expansion * planes),\n",
        "        )\n",
        "        self.downsample = downsample\n",
        "        self.relu = nn.ReLU(inplace=True)\n",
        "        self.stride = stride\n",
        "\n",
        "    def forward(self, x):\n",
        "        residual = x\n",
        "        out = self.convs(x)\n",
        "        if self.downsample is not None:\n",
        "            residual = self.downsample(x)\n",
        "        out += residual\n",
        "        out = self.relu(out)\n",
        "        return out"
      ]
    },
    {
      "cell_type": "code",
      "source": [
        "class ResNetBasicBlock(nn.Module):\n",
        "    def __init__(self, depth, n_class=10):\n",
        "        super().__init__()\n",
        "        # 指定した深さ（畳み込みの層数）でネットワークを構築できるかを確認\n",
        "        assert (depth - 2) % 6 == 0, 'When use basicblock, depth should be 6n+2 (e.g. 20, 32, 44).'\n",
        "        n_blocks = (depth - 2) // 6  # 1ブロックあたりのBasic Blockの数を決定\n",
        "\n",
        "        self.inplanes = 16\n",
        "\n",
        "        self.conv1 = nn.Conv2d(3, 16, kernel_size=3, padding=1, bias=False)\n",
        "        self.bn1 = nn.BatchNorm2d(16)\n",
        "        self.relu = nn.ReLU(inplace=True)\n",
        "\n",
        "        self.layer1 = self._make_layer(16, n_blocks)\n",
        "        self.layer2 = self._make_layer(32, n_blocks, stride=2)\n",
        "        self.layer3 = self._make_layer(64, n_blocks, stride=2)\n",
        "\n",
        "        self.avgpool = nn.AvgPool2d(8)\n",
        "        self.fc = nn.Linear(64 * BasicBlock.expansion, n_class)\n",
        "\n",
        "    def _make_layer(self, planes, n_blocks, stride=1):\n",
        "        downsample = None\n",
        "        if stride != 1 or self.inplanes != planes * BasicBlock.expansion:\n",
        "            downsample = nn.Sequential(\n",
        "                nn.Conv2d(self.inplanes, planes * BasicBlock.expansion, kernel_size=1, stride=stride, bias=False),\n",
        "                nn.BatchNorm2d(planes * BasicBlock.expansion),\n",
        "            )\n",
        "\n",
        "        layers = []\n",
        "        layers.append(BasicBlock(self.inplanes, planes, stride, downsample))\n",
        "        self.inplanes = planes * BasicBlock.expansion\n",
        "        for _ in range(0, n_blocks - 1):\n",
        "            layers.append(BasicBlock(self.inplanes, planes))\n",
        "\n",
        "        return nn.Sequential(*layers)\n",
        "\n",
        "    def forward(self, x):\n",
        "        x = self.conv1(x)\n",
        "        x = self.bn1(x)\n",
        "        x = self.relu(x)\n",
        "\n",
        "        x = self.layer1(x)\n",
        "        x = self.layer2(x)\n",
        "        x = self.layer3(x)\n",
        "\n",
        "        x = self.avgpool(x)\n",
        "        x = x.view(x.size(0), -1)\n",
        "        x = self.fc(x)\n",
        "        return x\n",
        "\n",
        "\n",
        "class ResNetBottleneck(nn.Module):\n",
        "    def __init__(self, depth, n_class=10):\n",
        "        super().__init__()\n",
        "        # 指定した深さ（畳み込みの層数）でネットワークを構築できるかを確認\n",
        "        assert (depth - 2) % 9 == 0, 'When use Bottleneck, depth should be 9n+2 (e.g. 47, 56, 110, 1199).'\n",
        "        n_blocks = (depth - 2) // 9  # 1ブロックあたりのBasic Blockの数を決定\n",
        "\n",
        "        self.inplanes = 16\n",
        "\n",
        "        self.conv1 = nn.Conv2d(3, 16, kernel_size=3, padding=1, bias=False)\n",
        "        self.bn1 = nn.BatchNorm2d(16)\n",
        "        self.relu = nn.ReLU(inplace=True)\n",
        "\n",
        "        self.layer1 = self._make_layer(16, n_blocks)\n",
        "        self.layer2 = self._make_layer(32, n_blocks, stride=2)\n",
        "        self.layer3 = self._make_layer(64, n_blocks, stride=2)\n",
        "\n",
        "        self.avgpool = nn.AvgPool2d(8)\n",
        "        self.fc = nn.Linear(64 * Bottleneck.expansion, n_class)\n",
        "\n",
        "    def _make_layer(self, planes, n_blocks, stride=1):\n",
        "        downsample = None\n",
        "        if stride != 1 or self.inplanes != planes * Bottleneck.expansion:\n",
        "            downsample = nn.Sequential(\n",
        "                nn.Conv2d(self.inplanes, planes * Bottleneck.expansion, kernel_size=1, stride=stride, bias=False),\n",
        "                nn.BatchNorm2d(planes * Bottleneck.expansion),\n",
        "            )\n",
        "\n",
        "        layers = []\n",
        "        layers.append(Bottleneck(self.inplanes, planes, stride, downsample))\n",
        "        self.inplanes = planes * Bottleneck.expansion\n",
        "        for _ in range(0, n_blocks - 1):\n",
        "            layers.append(Bottleneck(self.inplanes, planes))\n",
        "\n",
        "        return nn.Sequential(*layers)\n",
        "\n",
        "    def forward(self, x):\n",
        "        x = self.conv1(x)\n",
        "        x = self.bn1(x)\n",
        "        x = self.relu(x)\n",
        "\n",
        "        x = self.layer1(x)\n",
        "        x = self.layer2(x)\n",
        "        x = self.layer3(x)\n",
        "\n",
        "        x = self.avgpool(x)\n",
        "        x = x.view(x.size(0), -1)\n",
        "        x = self.fc(x)\n",
        "        return x"
      ],
      "metadata": {
        "id": "okne1AlVN7vI"
      },
      "execution_count": null,
      "outputs": []
    },
    {
      "cell_type": "code",
      "source": [
        "#事前学習済みモデルインストール\n",
        "model = torchvision.models.resnet50(pretrained=True).to(device)\n",
        "if use_cuda:\n",
        "    model.cuda()\n",
        "\n",
        "optimizer = torch.optim.SGD(model.parameters(), lr=0.01, momentum=0.9)\n",
        "\n",
        "# モデルの情報を表示\n",
        "torchsummary.summary(model, (3, 32, 32))"
      ],
      "metadata": {
        "colab": {
          "base_uri": "https://localhost:8080/",
          "height": 1000,
          "referenced_widgets": [
            "aff16c07e2e8457c9870ff29f92dc033",
            "fb6bb02505eb4e27880a315453a7860a",
            "cb6cf83236d44e86a7d26745e8d88878",
            "ef8ba50266eb4143964a63ecd7b1dc95",
            "1385f9671a754aaf96ef76beb72c33a6",
            "7d4ece35edba439c889eb51d38e72f62",
            "5ec15149d1414c34beae8108166ecee8",
            "e9539914b62547a6a69519b57f18a359",
            "c4f447130a294edb9c1129a2eacd45ad",
            "3b201e13be044b40810de41684c8f239",
            "51d5b46b7bde4e8c94ae7f98180efff0"
          ]
        },
        "id": "XqSJfpym7jH4",
        "outputId": "2556adcf-adbb-4bf0-a1b0-75f31655cc1b"
      },
      "execution_count": null,
      "outputs": [
        {
          "output_type": "stream",
          "name": "stderr",
          "text": [
            "/usr/local/lib/python3.8/dist-packages/torchvision/models/_utils.py:208: UserWarning: The parameter 'pretrained' is deprecated since 0.13 and may be removed in the future, please use 'weights' instead.\n",
            "  warnings.warn(\n",
            "/usr/local/lib/python3.8/dist-packages/torchvision/models/_utils.py:223: UserWarning: Arguments other than a weight enum or `None` for 'weights' are deprecated since 0.13 and may be removed in the future. The current behavior is equivalent to passing `weights=ResNet50_Weights.IMAGENET1K_V1`. You can also use `weights=ResNet50_Weights.DEFAULT` to get the most up-to-date weights.\n",
            "  warnings.warn(msg)\n",
            "Downloading: \"https://download.pytorch.org/models/resnet50-0676ba61.pth\" to /root/.cache/torch/hub/checkpoints/resnet50-0676ba61.pth\n"
          ]
        },
        {
          "output_type": "display_data",
          "data": {
            "text/plain": [
              "  0%|          | 0.00/97.8M [00:00<?, ?B/s]"
            ],
            "application/vnd.jupyter.widget-view+json": {
              "version_major": 2,
              "version_minor": 0,
              "model_id": "aff16c07e2e8457c9870ff29f92dc033"
            }
          },
          "metadata": {}
        },
        {
          "output_type": "stream",
          "name": "stdout",
          "text": [
            "----------------------------------------------------------------\n",
            "        Layer (type)               Output Shape         Param #\n",
            "================================================================\n",
            "            Conv2d-1           [-1, 64, 16, 16]           9,408\n",
            "       BatchNorm2d-2           [-1, 64, 16, 16]             128\n",
            "              ReLU-3           [-1, 64, 16, 16]               0\n",
            "         MaxPool2d-4             [-1, 64, 8, 8]               0\n",
            "            Conv2d-5             [-1, 64, 8, 8]           4,096\n",
            "       BatchNorm2d-6             [-1, 64, 8, 8]             128\n",
            "              ReLU-7             [-1, 64, 8, 8]               0\n",
            "            Conv2d-8             [-1, 64, 8, 8]          36,864\n",
            "       BatchNorm2d-9             [-1, 64, 8, 8]             128\n",
            "             ReLU-10             [-1, 64, 8, 8]               0\n",
            "           Conv2d-11            [-1, 256, 8, 8]          16,384\n",
            "      BatchNorm2d-12            [-1, 256, 8, 8]             512\n",
            "           Conv2d-13            [-1, 256, 8, 8]          16,384\n",
            "      BatchNorm2d-14            [-1, 256, 8, 8]             512\n",
            "             ReLU-15            [-1, 256, 8, 8]               0\n",
            "       Bottleneck-16            [-1, 256, 8, 8]               0\n",
            "           Conv2d-17             [-1, 64, 8, 8]          16,384\n",
            "      BatchNorm2d-18             [-1, 64, 8, 8]             128\n",
            "             ReLU-19             [-1, 64, 8, 8]               0\n",
            "           Conv2d-20             [-1, 64, 8, 8]          36,864\n",
            "      BatchNorm2d-21             [-1, 64, 8, 8]             128\n",
            "             ReLU-22             [-1, 64, 8, 8]               0\n",
            "           Conv2d-23            [-1, 256, 8, 8]          16,384\n",
            "      BatchNorm2d-24            [-1, 256, 8, 8]             512\n",
            "             ReLU-25            [-1, 256, 8, 8]               0\n",
            "       Bottleneck-26            [-1, 256, 8, 8]               0\n",
            "           Conv2d-27             [-1, 64, 8, 8]          16,384\n",
            "      BatchNorm2d-28             [-1, 64, 8, 8]             128\n",
            "             ReLU-29             [-1, 64, 8, 8]               0\n",
            "           Conv2d-30             [-1, 64, 8, 8]          36,864\n",
            "      BatchNorm2d-31             [-1, 64, 8, 8]             128\n",
            "             ReLU-32             [-1, 64, 8, 8]               0\n",
            "           Conv2d-33            [-1, 256, 8, 8]          16,384\n",
            "      BatchNorm2d-34            [-1, 256, 8, 8]             512\n",
            "             ReLU-35            [-1, 256, 8, 8]               0\n",
            "       Bottleneck-36            [-1, 256, 8, 8]               0\n",
            "           Conv2d-37            [-1, 128, 8, 8]          32,768\n",
            "      BatchNorm2d-38            [-1, 128, 8, 8]             256\n",
            "             ReLU-39            [-1, 128, 8, 8]               0\n",
            "           Conv2d-40            [-1, 128, 4, 4]         147,456\n",
            "      BatchNorm2d-41            [-1, 128, 4, 4]             256\n",
            "             ReLU-42            [-1, 128, 4, 4]               0\n",
            "           Conv2d-43            [-1, 512, 4, 4]          65,536\n",
            "      BatchNorm2d-44            [-1, 512, 4, 4]           1,024\n",
            "           Conv2d-45            [-1, 512, 4, 4]         131,072\n",
            "      BatchNorm2d-46            [-1, 512, 4, 4]           1,024\n",
            "             ReLU-47            [-1, 512, 4, 4]               0\n",
            "       Bottleneck-48            [-1, 512, 4, 4]               0\n",
            "           Conv2d-49            [-1, 128, 4, 4]          65,536\n",
            "      BatchNorm2d-50            [-1, 128, 4, 4]             256\n",
            "             ReLU-51            [-1, 128, 4, 4]               0\n",
            "           Conv2d-52            [-1, 128, 4, 4]         147,456\n",
            "      BatchNorm2d-53            [-1, 128, 4, 4]             256\n",
            "             ReLU-54            [-1, 128, 4, 4]               0\n",
            "           Conv2d-55            [-1, 512, 4, 4]          65,536\n",
            "      BatchNorm2d-56            [-1, 512, 4, 4]           1,024\n",
            "             ReLU-57            [-1, 512, 4, 4]               0\n",
            "       Bottleneck-58            [-1, 512, 4, 4]               0\n",
            "           Conv2d-59            [-1, 128, 4, 4]          65,536\n",
            "      BatchNorm2d-60            [-1, 128, 4, 4]             256\n",
            "             ReLU-61            [-1, 128, 4, 4]               0\n",
            "           Conv2d-62            [-1, 128, 4, 4]         147,456\n",
            "      BatchNorm2d-63            [-1, 128, 4, 4]             256\n",
            "             ReLU-64            [-1, 128, 4, 4]               0\n",
            "           Conv2d-65            [-1, 512, 4, 4]          65,536\n",
            "      BatchNorm2d-66            [-1, 512, 4, 4]           1,024\n",
            "             ReLU-67            [-1, 512, 4, 4]               0\n",
            "       Bottleneck-68            [-1, 512, 4, 4]               0\n",
            "           Conv2d-69            [-1, 128, 4, 4]          65,536\n",
            "      BatchNorm2d-70            [-1, 128, 4, 4]             256\n",
            "             ReLU-71            [-1, 128, 4, 4]               0\n",
            "           Conv2d-72            [-1, 128, 4, 4]         147,456\n",
            "      BatchNorm2d-73            [-1, 128, 4, 4]             256\n",
            "             ReLU-74            [-1, 128, 4, 4]               0\n",
            "           Conv2d-75            [-1, 512, 4, 4]          65,536\n",
            "      BatchNorm2d-76            [-1, 512, 4, 4]           1,024\n",
            "             ReLU-77            [-1, 512, 4, 4]               0\n",
            "       Bottleneck-78            [-1, 512, 4, 4]               0\n",
            "           Conv2d-79            [-1, 256, 4, 4]         131,072\n",
            "      BatchNorm2d-80            [-1, 256, 4, 4]             512\n",
            "             ReLU-81            [-1, 256, 4, 4]               0\n",
            "           Conv2d-82            [-1, 256, 2, 2]         589,824\n",
            "      BatchNorm2d-83            [-1, 256, 2, 2]             512\n",
            "             ReLU-84            [-1, 256, 2, 2]               0\n",
            "           Conv2d-85           [-1, 1024, 2, 2]         262,144\n",
            "      BatchNorm2d-86           [-1, 1024, 2, 2]           2,048\n",
            "           Conv2d-87           [-1, 1024, 2, 2]         524,288\n",
            "      BatchNorm2d-88           [-1, 1024, 2, 2]           2,048\n",
            "             ReLU-89           [-1, 1024, 2, 2]               0\n",
            "       Bottleneck-90           [-1, 1024, 2, 2]               0\n",
            "           Conv2d-91            [-1, 256, 2, 2]         262,144\n",
            "      BatchNorm2d-92            [-1, 256, 2, 2]             512\n",
            "             ReLU-93            [-1, 256, 2, 2]               0\n",
            "           Conv2d-94            [-1, 256, 2, 2]         589,824\n",
            "      BatchNorm2d-95            [-1, 256, 2, 2]             512\n",
            "             ReLU-96            [-1, 256, 2, 2]               0\n",
            "           Conv2d-97           [-1, 1024, 2, 2]         262,144\n",
            "      BatchNorm2d-98           [-1, 1024, 2, 2]           2,048\n",
            "             ReLU-99           [-1, 1024, 2, 2]               0\n",
            "      Bottleneck-100           [-1, 1024, 2, 2]               0\n",
            "          Conv2d-101            [-1, 256, 2, 2]         262,144\n",
            "     BatchNorm2d-102            [-1, 256, 2, 2]             512\n",
            "            ReLU-103            [-1, 256, 2, 2]               0\n",
            "          Conv2d-104            [-1, 256, 2, 2]         589,824\n",
            "     BatchNorm2d-105            [-1, 256, 2, 2]             512\n",
            "            ReLU-106            [-1, 256, 2, 2]               0\n",
            "          Conv2d-107           [-1, 1024, 2, 2]         262,144\n",
            "     BatchNorm2d-108           [-1, 1024, 2, 2]           2,048\n",
            "            ReLU-109           [-1, 1024, 2, 2]               0\n",
            "      Bottleneck-110           [-1, 1024, 2, 2]               0\n",
            "          Conv2d-111            [-1, 256, 2, 2]         262,144\n",
            "     BatchNorm2d-112            [-1, 256, 2, 2]             512\n",
            "            ReLU-113            [-1, 256, 2, 2]               0\n",
            "          Conv2d-114            [-1, 256, 2, 2]         589,824\n",
            "     BatchNorm2d-115            [-1, 256, 2, 2]             512\n",
            "            ReLU-116            [-1, 256, 2, 2]               0\n",
            "          Conv2d-117           [-1, 1024, 2, 2]         262,144\n",
            "     BatchNorm2d-118           [-1, 1024, 2, 2]           2,048\n",
            "            ReLU-119           [-1, 1024, 2, 2]               0\n",
            "      Bottleneck-120           [-1, 1024, 2, 2]               0\n",
            "          Conv2d-121            [-1, 256, 2, 2]         262,144\n",
            "     BatchNorm2d-122            [-1, 256, 2, 2]             512\n",
            "            ReLU-123            [-1, 256, 2, 2]               0\n",
            "          Conv2d-124            [-1, 256, 2, 2]         589,824\n",
            "     BatchNorm2d-125            [-1, 256, 2, 2]             512\n",
            "            ReLU-126            [-1, 256, 2, 2]               0\n",
            "          Conv2d-127           [-1, 1024, 2, 2]         262,144\n",
            "     BatchNorm2d-128           [-1, 1024, 2, 2]           2,048\n",
            "            ReLU-129           [-1, 1024, 2, 2]               0\n",
            "      Bottleneck-130           [-1, 1024, 2, 2]               0\n",
            "          Conv2d-131            [-1, 256, 2, 2]         262,144\n",
            "     BatchNorm2d-132            [-1, 256, 2, 2]             512\n",
            "            ReLU-133            [-1, 256, 2, 2]               0\n",
            "          Conv2d-134            [-1, 256, 2, 2]         589,824\n",
            "     BatchNorm2d-135            [-1, 256, 2, 2]             512\n",
            "            ReLU-136            [-1, 256, 2, 2]               0\n",
            "          Conv2d-137           [-1, 1024, 2, 2]         262,144\n",
            "     BatchNorm2d-138           [-1, 1024, 2, 2]           2,048\n",
            "            ReLU-139           [-1, 1024, 2, 2]               0\n",
            "      Bottleneck-140           [-1, 1024, 2, 2]               0\n",
            "          Conv2d-141            [-1, 512, 2, 2]         524,288\n",
            "     BatchNorm2d-142            [-1, 512, 2, 2]           1,024\n",
            "            ReLU-143            [-1, 512, 2, 2]               0\n",
            "          Conv2d-144            [-1, 512, 1, 1]       2,359,296\n",
            "     BatchNorm2d-145            [-1, 512, 1, 1]           1,024\n",
            "            ReLU-146            [-1, 512, 1, 1]               0\n",
            "          Conv2d-147           [-1, 2048, 1, 1]       1,048,576\n",
            "     BatchNorm2d-148           [-1, 2048, 1, 1]           4,096\n",
            "          Conv2d-149           [-1, 2048, 1, 1]       2,097,152\n",
            "     BatchNorm2d-150           [-1, 2048, 1, 1]           4,096\n",
            "            ReLU-151           [-1, 2048, 1, 1]               0\n",
            "      Bottleneck-152           [-1, 2048, 1, 1]               0\n",
            "          Conv2d-153            [-1, 512, 1, 1]       1,048,576\n",
            "     BatchNorm2d-154            [-1, 512, 1, 1]           1,024\n",
            "            ReLU-155            [-1, 512, 1, 1]               0\n",
            "          Conv2d-156            [-1, 512, 1, 1]       2,359,296\n",
            "     BatchNorm2d-157            [-1, 512, 1, 1]           1,024\n",
            "            ReLU-158            [-1, 512, 1, 1]               0\n",
            "          Conv2d-159           [-1, 2048, 1, 1]       1,048,576\n",
            "     BatchNorm2d-160           [-1, 2048, 1, 1]           4,096\n",
            "            ReLU-161           [-1, 2048, 1, 1]               0\n",
            "      Bottleneck-162           [-1, 2048, 1, 1]               0\n",
            "          Conv2d-163            [-1, 512, 1, 1]       1,048,576\n",
            "     BatchNorm2d-164            [-1, 512, 1, 1]           1,024\n",
            "            ReLU-165            [-1, 512, 1, 1]               0\n",
            "          Conv2d-166            [-1, 512, 1, 1]       2,359,296\n",
            "     BatchNorm2d-167            [-1, 512, 1, 1]           1,024\n",
            "            ReLU-168            [-1, 512, 1, 1]               0\n",
            "          Conv2d-169           [-1, 2048, 1, 1]       1,048,576\n",
            "     BatchNorm2d-170           [-1, 2048, 1, 1]           4,096\n",
            "            ReLU-171           [-1, 2048, 1, 1]               0\n",
            "      Bottleneck-172           [-1, 2048, 1, 1]               0\n",
            "AdaptiveAvgPool2d-173           [-1, 2048, 1, 1]               0\n",
            "          Linear-174                 [-1, 1000]       2,049,000\n",
            "================================================================\n",
            "Total params: 25,557,032\n",
            "Trainable params: 25,557,032\n",
            "Non-trainable params: 0\n",
            "----------------------------------------------------------------\n",
            "Input size (MB): 0.01\n",
            "Forward/backward pass size (MB): 5.87\n",
            "Params size (MB): 97.49\n",
            "Estimated Total Size (MB): 103.37\n",
            "----------------------------------------------------------------\n"
          ]
        }
      ]
    },
    {
      "cell_type": "code",
      "source": [
        "# ResNetの層数を指定 (e.g. 20, 32, 44, 47, 56, 110, 1199)\n",
        "n_layers = 20\n",
        "\n",
        "# ResNetを構築\n",
        "model = ResNetBasicBlock(depth=n_layers, n_class=10)    # BasicBlock構造を用いる場合\n",
        "# model = ResNetBottleneck(depth=n_layers, n_class=10)  # Bottleneck構造を用いる場合\n",
        "\n",
        "if use_cuda:\n",
        "    model.cuda()\n",
        "\n",
        "optimizer = torch.optim.SGD(model.parameters(), lr=0.01, momentum=0.9)\n",
        "\n",
        "# モデルの情報を表示\n",
        "torchsummary.summary(model, (3, 32, 32))"
      ],
      "metadata": {
        "id": "KB3j3G4NN-58",
        "colab": {
          "base_uri": "https://localhost:8080/"
        },
        "outputId": "cedc2b0f-ea98-4786-b81f-029787cb8fad"
      },
      "execution_count": null,
      "outputs": [
        {
          "output_type": "stream",
          "name": "stdout",
          "text": [
            "----------------------------------------------------------------\n",
            "        Layer (type)               Output Shape         Param #\n",
            "================================================================\n",
            "            Conv2d-1           [-1, 16, 32, 32]             432\n",
            "       BatchNorm2d-2           [-1, 16, 32, 32]              32\n",
            "              ReLU-3           [-1, 16, 32, 32]               0\n",
            "            Conv2d-4           [-1, 16, 32, 32]           2,304\n",
            "       BatchNorm2d-5           [-1, 16, 32, 32]              32\n",
            "              ReLU-6           [-1, 16, 32, 32]               0\n",
            "            Conv2d-7           [-1, 16, 32, 32]           2,304\n",
            "       BatchNorm2d-8           [-1, 16, 32, 32]              32\n",
            "              ReLU-9           [-1, 16, 32, 32]               0\n",
            "       BasicBlock-10           [-1, 16, 32, 32]               0\n",
            "           Conv2d-11           [-1, 16, 32, 32]           2,304\n",
            "      BatchNorm2d-12           [-1, 16, 32, 32]              32\n",
            "             ReLU-13           [-1, 16, 32, 32]               0\n",
            "           Conv2d-14           [-1, 16, 32, 32]           2,304\n",
            "      BatchNorm2d-15           [-1, 16, 32, 32]              32\n",
            "             ReLU-16           [-1, 16, 32, 32]               0\n",
            "       BasicBlock-17           [-1, 16, 32, 32]               0\n",
            "           Conv2d-18           [-1, 16, 32, 32]           2,304\n",
            "      BatchNorm2d-19           [-1, 16, 32, 32]              32\n",
            "             ReLU-20           [-1, 16, 32, 32]               0\n",
            "           Conv2d-21           [-1, 16, 32, 32]           2,304\n",
            "      BatchNorm2d-22           [-1, 16, 32, 32]              32\n",
            "             ReLU-23           [-1, 16, 32, 32]               0\n",
            "       BasicBlock-24           [-1, 16, 32, 32]               0\n",
            "           Conv2d-25           [-1, 32, 16, 16]           4,608\n",
            "      BatchNorm2d-26           [-1, 32, 16, 16]              64\n",
            "             ReLU-27           [-1, 32, 16, 16]               0\n",
            "           Conv2d-28           [-1, 32, 16, 16]           9,216\n",
            "      BatchNorm2d-29           [-1, 32, 16, 16]              64\n",
            "           Conv2d-30           [-1, 32, 16, 16]             512\n",
            "      BatchNorm2d-31           [-1, 32, 16, 16]              64\n",
            "             ReLU-32           [-1, 32, 16, 16]               0\n",
            "       BasicBlock-33           [-1, 32, 16, 16]               0\n",
            "           Conv2d-34           [-1, 32, 16, 16]           9,216\n",
            "      BatchNorm2d-35           [-1, 32, 16, 16]              64\n",
            "             ReLU-36           [-1, 32, 16, 16]               0\n",
            "           Conv2d-37           [-1, 32, 16, 16]           9,216\n",
            "      BatchNorm2d-38           [-1, 32, 16, 16]              64\n",
            "             ReLU-39           [-1, 32, 16, 16]               0\n",
            "       BasicBlock-40           [-1, 32, 16, 16]               0\n",
            "           Conv2d-41           [-1, 32, 16, 16]           9,216\n",
            "      BatchNorm2d-42           [-1, 32, 16, 16]              64\n",
            "             ReLU-43           [-1, 32, 16, 16]               0\n",
            "           Conv2d-44           [-1, 32, 16, 16]           9,216\n",
            "      BatchNorm2d-45           [-1, 32, 16, 16]              64\n",
            "             ReLU-46           [-1, 32, 16, 16]               0\n",
            "       BasicBlock-47           [-1, 32, 16, 16]               0\n",
            "           Conv2d-48             [-1, 64, 8, 8]          18,432\n",
            "      BatchNorm2d-49             [-1, 64, 8, 8]             128\n",
            "             ReLU-50             [-1, 64, 8, 8]               0\n",
            "           Conv2d-51             [-1, 64, 8, 8]          36,864\n",
            "      BatchNorm2d-52             [-1, 64, 8, 8]             128\n",
            "           Conv2d-53             [-1, 64, 8, 8]           2,048\n",
            "      BatchNorm2d-54             [-1, 64, 8, 8]             128\n",
            "             ReLU-55             [-1, 64, 8, 8]               0\n",
            "       BasicBlock-56             [-1, 64, 8, 8]               0\n",
            "           Conv2d-57             [-1, 64, 8, 8]          36,864\n",
            "      BatchNorm2d-58             [-1, 64, 8, 8]             128\n",
            "             ReLU-59             [-1, 64, 8, 8]               0\n",
            "           Conv2d-60             [-1, 64, 8, 8]          36,864\n",
            "      BatchNorm2d-61             [-1, 64, 8, 8]             128\n",
            "             ReLU-62             [-1, 64, 8, 8]               0\n",
            "       BasicBlock-63             [-1, 64, 8, 8]               0\n",
            "           Conv2d-64             [-1, 64, 8, 8]          36,864\n",
            "      BatchNorm2d-65             [-1, 64, 8, 8]             128\n",
            "             ReLU-66             [-1, 64, 8, 8]               0\n",
            "           Conv2d-67             [-1, 64, 8, 8]          36,864\n",
            "      BatchNorm2d-68             [-1, 64, 8, 8]             128\n",
            "             ReLU-69             [-1, 64, 8, 8]               0\n",
            "       BasicBlock-70             [-1, 64, 8, 8]               0\n",
            "        AvgPool2d-71             [-1, 64, 1, 1]               0\n",
            "           Linear-72                   [-1, 10]             650\n",
            "================================================================\n",
            "Total params: 272,474\n",
            "Trainable params: 272,474\n",
            "Non-trainable params: 0\n",
            "----------------------------------------------------------------\n",
            "Input size (MB): 0.01\n",
            "Forward/backward pass size (MB): 5.16\n",
            "Params size (MB): 1.04\n",
            "Estimated Total Size (MB): 6.21\n",
            "----------------------------------------------------------------\n"
          ]
        }
      ]
    },
    {
      "cell_type": "code",
      "source": [
        "\n",
        "##ここを追記↓##\n",
        "mean_acc_list = []\n",
        "mean_loss_list = []\n",
        "##############\n",
        "\n",
        "# ミニバッチサイズ・エポック数の設定\n",
        "batch_size = 128\n",
        "epoch_num = 50\n",
        "n_iter = len(train_data) / batch_size\n",
        "\n",
        "# データローダーの設定\n",
        "train_loader = torch.utils.data.DataLoader(train_data, batch_size=batch_size, shuffle=True, num_workers=2)\n",
        "\n",
        "# 誤差関数の設定\n",
        "criterion = nn.CrossEntropyLoss()\n",
        "if use_cuda:\n",
        "    criterion.cuda()\n",
        "\n",
        "# ネットワークを学習モードへ変更\n",
        "model.train()\n",
        "\n",
        "start = time()\n",
        "for epoch in range(1, epoch_num+1):\n",
        "    mean_loss = 0\n",
        "    mean_acc = 0\n",
        "    sum_loss = 0\n",
        "    count = 0\n",
        "    \n",
        "    for image, label in train_loader:\n",
        "        if use_cuda:\n",
        "            image = image.cuda()\n",
        "            label = label.cuda()\n",
        "\n",
        "        y = model(image)\n",
        "        loss = criterion(y, label)\n",
        "        \n",
        "        model.zero_grad()\n",
        "        loss.backward()\n",
        "        optimizer.step()\n",
        "        \n",
        "        sum_loss += loss.item()\n",
        "        \n",
        "        pred = torch.argmax(y, dim=1)\n",
        "        count += torch.sum(pred == label)\n",
        "\n",
        "\n",
        "\n",
        "    print(\"epoch: {}, mean loss: {}, mean accuracy: {}, elapsed_time :{}\".format(epoch,\n",
        "                                                                                 sum_loss / n_iter,\n",
        "                                                                                 count.item() / len(train_data),\n",
        "                                                                                 time() - start))\n",
        "    #count=count.float().mean()\n",
        "    mean_acc=count.item() / len(train_data)\n",
        "    mean_acc_list.append(mean_acc)\n",
        "    #sum_loss=sum_loss.float().mean()\n",
        "    mean_loss=sum_loss / n_iter\n",
        "    mean_loss_list.append(mean_loss)"
      ],
      "metadata": {
        "id": "4i9E2tpxOA_E",
        "colab": {
          "base_uri": "https://localhost:8080/"
        },
        "outputId": "fe4ce966-ea6d-4038-bfd3-faf99ab72a76"
      },
      "execution_count": null,
      "outputs": [
        {
          "output_type": "stream",
          "name": "stdout",
          "text": [
            "epoch: 1, mean loss: 1.7234740280151368, mean accuracy: 0.464, elapsed_time :25.899952173233032\n",
            "epoch: 2, mean loss: 1.5110918084716798, mean accuracy: 0.49094, elapsed_time :52.614925146102905\n",
            "epoch: 3, mean loss: 1.137960849609375, mean accuracy: 0.62248, elapsed_time :78.50117230415344\n",
            "epoch: 4, mean loss: 0.9823861470031738, mean accuracy: 0.6585, elapsed_time :104.60070061683655\n",
            "epoch: 5, mean loss: 0.7957943302917481, mean accuracy: 0.72634, elapsed_time :131.23789310455322\n",
            "epoch: 6, mean loss: 0.7078039359283447, mean accuracy: 0.75512, elapsed_time :157.20768666267395\n",
            "epoch: 7, mean loss: 0.6025828744506836, mean accuracy: 0.79108, elapsed_time :182.9859848022461\n",
            "epoch: 8, mean loss: 0.5452725081634522, mean accuracy: 0.80896, elapsed_time :208.94316220283508\n",
            "epoch: 9, mean loss: 0.48658784370422364, mean accuracy: 0.82976, elapsed_time :234.7995982170105\n",
            "epoch: 10, mean loss: 0.4353696103668213, mean accuracy: 0.84608, elapsed_time :260.82161045074463\n",
            "epoch: 11, mean loss: 0.4047795768356323, mean accuracy: 0.85832, elapsed_time :286.88785004615784\n",
            "epoch: 12, mean loss: 0.37000516345977785, mean accuracy: 0.8709, elapsed_time :312.9721918106079\n",
            "epoch: 13, mean loss: 0.3476717391204834, mean accuracy: 0.87842, elapsed_time :339.61899757385254\n",
            "epoch: 14, mean loss: 0.3039576371002197, mean accuracy: 0.89484, elapsed_time :365.62870240211487\n",
            "epoch: 15, mean loss: 0.2844064373779297, mean accuracy: 0.90042, elapsed_time :391.61523938179016\n",
            "epoch: 16, mean loss: 0.2568650040054321, mean accuracy: 0.91, elapsed_time :417.54863572120667\n",
            "epoch: 17, mean loss: 0.2425733381462097, mean accuracy: 0.91518, elapsed_time :443.4928615093231\n",
            "epoch: 18, mean loss: 0.26177681955337523, mean accuracy: 0.9066, elapsed_time :469.4197325706482\n",
            "epoch: 19, mean loss: 0.20071169639587402, mean accuracy: 0.9293, elapsed_time :495.40456652641296\n",
            "epoch: 20, mean loss: 0.18321849905967713, mean accuracy: 0.93568, elapsed_time :521.6008996963501\n",
            "epoch: 21, mean loss: 0.17905499138832093, mean accuracy: 0.9373, elapsed_time :548.6319239139557\n",
            "epoch: 22, mean loss: 0.1665430944252014, mean accuracy: 0.9409, elapsed_time :574.8496530056\n",
            "epoch: 23, mean loss: 0.14384810539245604, mean accuracy: 0.94998, elapsed_time :601.0913805961609\n",
            "epoch: 24, mean loss: 0.1340395621585846, mean accuracy: 0.95272, elapsed_time :627.4308142662048\n",
            "epoch: 25, mean loss: 0.12444989520072937, mean accuracy: 0.95574, elapsed_time :653.5225660800934\n",
            "epoch: 26, mean loss: 0.1315972505569458, mean accuracy: 0.95318, elapsed_time :679.8622801303864\n",
            "epoch: 27, mean loss: 0.10920717583179473, mean accuracy: 0.96132, elapsed_time :706.090390920639\n",
            "epoch: 28, mean loss: 0.09593926614761353, mean accuracy: 0.96602, elapsed_time :733.0064120292664\n",
            "epoch: 29, mean loss: 0.09356590613365173, mean accuracy: 0.96874, elapsed_time :759.3142189979553\n",
            "epoch: 30, mean loss: 0.0881101407289505, mean accuracy: 0.96874, elapsed_time :785.587699174881\n",
            "epoch: 31, mean loss: 0.0784543920636177, mean accuracy: 0.97266, elapsed_time :811.8050425052643\n",
            "epoch: 32, mean loss: 0.07024378431558609, mean accuracy: 0.9754, elapsed_time :837.8561792373657\n",
            "epoch: 33, mean loss: 0.07520073804378509, mean accuracy: 0.97354, elapsed_time :863.8934078216553\n",
            "epoch: 34, mean loss: 0.06985686154842377, mean accuracy: 0.97582, elapsed_time :889.7211122512817\n",
            "epoch: 35, mean loss: 0.06079234285473824, mean accuracy: 0.97896, elapsed_time :915.827329158783\n",
            "epoch: 36, mean loss: 0.05925184155464172, mean accuracy: 0.97966, elapsed_time :942.6385979652405\n",
            "epoch: 37, mean loss: 0.05760302429437637, mean accuracy: 0.97976, elapsed_time :968.8535623550415\n",
            "epoch: 38, mean loss: 0.05309494666337967, mean accuracy: 0.98192, elapsed_time :994.9925656318665\n",
            "epoch: 39, mean loss: 0.05543018345594406, mean accuracy: 0.98116, elapsed_time :1021.2323846817017\n",
            "epoch: 40, mean loss: 0.049214713302850724, mean accuracy: 0.98294, elapsed_time :1047.4815814495087\n",
            "epoch: 41, mean loss: 0.05013126829981804, mean accuracy: 0.98206, elapsed_time :1073.601506471634\n",
            "epoch: 42, mean loss: 0.0452899372458458, mean accuracy: 0.98436, elapsed_time :1099.8332207202911\n",
            "epoch: 43, mean loss: 0.04136003660440445, mean accuracy: 0.98564, elapsed_time :1126.2497961521149\n",
            "epoch: 44, mean loss: 0.04274489960432053, mean accuracy: 0.9853, elapsed_time :1152.8337333202362\n",
            "epoch: 45, mean loss: 0.04231108251690865, mean accuracy: 0.98544, elapsed_time :1178.7430768013\n",
            "epoch: 46, mean loss: 0.040082392525076865, mean accuracy: 0.98646, elapsed_time :1204.5850949287415\n",
            "epoch: 47, mean loss: 0.038465680285692215, mean accuracy: 0.9865, elapsed_time :1230.464674949646\n",
            "epoch: 48, mean loss: 0.035711084927022456, mean accuracy: 0.98792, elapsed_time :1256.376610994339\n",
            "epoch: 49, mean loss: 0.03525325789153576, mean accuracy: 0.98834, elapsed_time :1282.299190044403\n",
            "epoch: 50, mean loss: 0.034623558076024054, mean accuracy: 0.98784, elapsed_time :1308.2230973243713\n"
          ]
        }
      ]
    },
    {
      "cell_type": "code",
      "source": [
        "import seaborn as sns"
      ],
      "metadata": {
        "id": "CiLBXL_6uyFa"
      },
      "execution_count": null,
      "outputs": []
    },
    {
      "cell_type": "code",
      "source": [
        "#出力したテンソルのデバイスをCPUへ切り替える\n",
        "device2 = torch.device('cpu')\n",
        "\n",
        "\n",
        "\"\"\"\n",
        "for i in range(epoch):\n",
        "    mean_acc2 = mean_acc_list[i].to(device)\n",
        "    mean_acc3 = mean_acc2.clone().numpy()\n",
        "    mean_acc.append(mean_acc3)\n",
        "    \n",
        "    mean_loss2 = mean_loss_list[i].to(device2)\n",
        "    mean_loss3 = mean_loss2.clone().detach().numpy()\n",
        "    mean_loss.append(mean_loss3)\n",
        "\"\"\"\n",
        "\n",
        "#取得したデータをグラフ化する\n",
        "sns.set()\n",
        "num_epoch = epoch\n",
        "\n",
        "fig = plt.subplots(figsize=(12, 4), dpi=80)\n",
        "\n",
        "ax1 = plt.subplot(1,2,1)\n",
        "ax1.plot(range(num_epoch), mean_acc_list, c='b', label='mean acc')\n",
        "ax1.set_xlabel('epoch', fontsize='12')\n",
        "ax1.set_ylabel('accuracy', fontsize='12')\n",
        "ax1.set_title('mean_acc', fontsize='14')\n",
        "ax1.legend(fontsize='12')\n",
        "plt.ylim(0,1)\n",
        "\n",
        "ax2 = plt.subplot(1,2,2)\n",
        "ax2.plot(range(num_epoch), mean_loss_list, c='b', label='train loss')\n",
        "ax2.set_xlabel('epoch', fontsize='12')\n",
        "ax2.set_ylabel('loss', fontsize='12')\n",
        "ax2.set_title('mean loss', fontsize='14')\n",
        "ax2.legend(fontsize='12')\n",
        "plt.ylim(0,5)\n",
        "plt.show()"
      ],
      "metadata": {
        "id": "FjtihgAdi-w0",
        "colab": {
          "base_uri": "https://localhost:8080/",
          "height": 334
        },
        "outputId": "3cb898f5-5eb8-4d26-d81f-302191db96a0"
      },
      "execution_count": null,
      "outputs": [
        {
          "output_type": "display_data",
          "data": {
            "text/plain": [
              "<Figure size 960x320 with 2 Axes>"
            ],
            "image/png": "[encoded data removed]"
          },
          "metadata": {}
        }
      ]
    },
    {
      "cell_type": "code",
      "source": [
        "import os"
      ],
      "metadata": {
        "id": "dkNXuSbRKNe3"
      },
      "execution_count": null,
      "outputs": []
    },
    {
      "cell_type": "code",
      "source": [
        "from google.colab import drive\n",
        "drive.mount('/content/gdrive')"
      ],
      "metadata": {
        "id": "EiTXq7DYgyQc",
        "colab": {
          "base_uri": "https://localhost:8080/"
        },
        "outputId": "0bece4f2-3d97-4802-b9e5-b24745cc6cba"
      },
      "execution_count": null,
      "outputs": [
        {
          "output_type": "stream",
          "name": "stdout",
          "text": [
            "Mounted at /content/gdrive\n"
          ]
        }
      ]
    },
    {
      "cell_type": "code",
      "source": [
        "#学習結果の保存\n",
        "model_path = '/content/gdrive/MyDrive/ResNet50-pretrained-20.pth'\n",
        "torch.save(model.state_dict(), model_path)"
      ],
      "metadata": {
        "id": "ITLcNF2Bg5rh"
      },
      "execution_count": null,
      "outputs": []
    },
    {
      "cell_type": "code",
      "source": [
        "#学習結果の呼び出し\n",
        "device=torch.device(\"cuda:0\")\n",
        "model.load_state_dict(\n",
        "    torch.load(\n",
        "        os.path.join( \"/content/gdrive/MyDrive/ResNet50-20.pth\")\n",
        "    )\n",
        ")"
      ],
      "metadata": {
        "colab": {
          "base_uri": "https://localhost:8080/"
        },
        "id": "MUqMXZihKDCh",
        "outputId": "91411c65-6957-49ab-e078-d94b98d6fb1e"
      },
      "execution_count": null,
      "outputs": [
        {
          "output_type": "execute_result",
          "data": {
            "text/plain": [
              "<All keys matched successfully>"
            ]
          },
          "metadata": {},
          "execution_count": 9
        }
      ]
    },
    {
      "cell_type": "code",
      "source": [
        "\n",
        "# データローダーの準備\n",
        "test_loader = torch.utils.data.DataLoader(test_data, batch_size=100, shuffle=False)\n",
        "\n",
        "# ネットワークを評価モードへ変更\n",
        "model.eval()\n",
        "\n",
        "# 評価の実行\n",
        "count = 0\n",
        "with torch.no_grad():\n",
        "    for image, label in test_loader:\n",
        "\n",
        "        if use_cuda:\n",
        "            image = image.cuda()\n",
        "            label = label.cuda()\n",
        "            \n",
        "        y = model(image)\n",
        "\n",
        "        pred = torch.argmax(y, dim=1)\n",
        "        count += torch.sum(pred == label)\n",
        "\n",
        "print(\"test accuracy: {}\".format(count.item() / len(test_data)))"
      ],
      "metadata": {
        "id": "2T0-4dKOOD7f",
        "colab": {
          "base_uri": "https://localhost:8080/"
        },
        "outputId": "57db7691-2c6a-45c8-ff26-7129da91acdb"
      },
      "execution_count": null,
      "outputs": [
        {
          "output_type": "stream",
          "name": "stdout",
          "text": [
            "test accuracy: 0.8363\n"
          ]
        }
      ]
    },
    {
      "cell_type": "code",
      "source": [
        "from tqdm import tqdm\n",
        "model.eval()\n",
        "prob_all = []\n",
        "label_all = []\n",
        "prob_score=[]\n",
        "device=torch.device(\"cuda\")\n",
        "i=0\n",
        "for data, label in tqdm(test_loader):\n",
        "        data = data.to(device)\n",
        "        label = label.to(device)\n",
        "        l2 = label.cpu().detach().numpy()\n",
        "        label_all.extend(l2)\n",
        "        prob = model(data)\n",
        "        prob = prob.cpu().detach().numpy()\n",
        "        prob_score.extend(prob) \n",
        "        prob_all.extend(np.argmax(prob,axis=1))\n",
        "        i=i+1\n",
        "#print(lable_all)\n",
        "#print(prob_score)"
      ],
      "metadata": {
        "id": "jLouNELMZC_X",
        "colab": {
          "base_uri": "https://localhost:8080/"
        },
        "outputId": "c9d50795-166b-420a-ad9f-ed5c549e6138"
      },
      "execution_count": null,
      "outputs": [
        {
          "output_type": "stream",
          "name": "stderr",
          "text": [
            "100%|██████████| 100/100 [00:02<00:00, 39.29it/s]\n"
          ]
        }
      ]
    },
    {
      "cell_type": "code",
      "source": [
        "print(i)\n",
        "from sklearn.metrics import confusion_matrix\n",
        "from sklearn.metrics import roc_auc_score\n",
        "from sklearn.metrics import roc_curve\n",
        "from sklearn.metrics import precision_score\n",
        "from sklearn.metrics import classification_report\n",
        "from sklearn.metrics import f1_score\n",
        "from sklearn.metrics import recall_score\n",
        "from sklearn.metrics import accuracy_score\n",
        "from sklearn.metrics import precision_recall_curve\n",
        "\n",
        "import torchvision.ops.boxes as bops\n",
        "\n",
        "\n",
        "print(\"Accuracy:{:.4f}\".format(accuracy_score(label_all, prob_all) ))\n",
        "print(\"Recall:{:.4f}\".format(recall_score(label_all, prob_all,average='macro') ))\n",
        "print(\"Precision:{:.4f}\".format(precision_score(label_all, prob_all,average='macro') ))\n",
        "print(\"f1_score:{:.4f}\".format(f1_score(label_all, prob_all,average='macro') ))\n",
        "print(classification_report(label_all,prob_all,target_names=classes,digits=4))\n",
        "\n",
        "#fpr, tpr, thresholds = roc_curve(label_all, prob_score, pos_label=2)\n",
        "#print(\"Auc:{:.4f}\".format(roc_auc_score(label_all, prob_score,average='macro') ))\n",
        "print(confusion_matrix(prob_all,label_all))\n"
      ],
      "metadata": {
        "id": "QKFSVB0jf4j3",
        "colab": {
          "base_uri": "https://localhost:8080/"
        },
        "outputId": "a3ecaad9-5b44-454c-b7d1-8015d3f58391"
      },
      "execution_count": null,
      "outputs": [
        {
          "output_type": "stream",
          "name": "stdout",
          "text": [
            "100\n",
            "Accuracy:0.8363\n",
            "Recall:0.8363\n",
            "Precision:0.8350\n",
            "f1_score:0.8344\n",
            "              precision    recall  f1-score   support\n",
            "\n",
            "       plane     0.8167    0.8780    0.8463      1000\n",
            "         car     0.9017    0.9170    0.9093      1000\n",
            "        bird     0.7812    0.8070    0.7939      1000\n",
            "         cat     0.7482    0.6240    0.6805      1000\n",
            "        deer     0.8023    0.8480    0.8245      1000\n",
            "         dog     0.8087    0.7230    0.7635      1000\n",
            "        frog     0.8422    0.9070    0.8734      1000\n",
            "       horse     0.8978    0.8520    0.8743      1000\n",
            "        ship     0.8844    0.9100    0.8970      1000\n",
            "       truck     0.8667    0.8970    0.8816      1000\n",
            "\n",
            "    accuracy                         0.8363     10000\n",
            "   macro avg     0.8350    0.8363    0.8344     10000\n",
            "weighted avg     0.8350    0.8363    0.8344     10000\n",
            "\n",
            "[[878  12  36  26  12  13   8  18  48  24]\n",
            " [ 11 917   2  16   2   7   3   1  14  44]\n",
            " [ 41   3 807  58  30  36  24  22   8   4]\n",
            " [  6   0  28 624  28 103  18  18   6   3]\n",
            " [  6   0  52  57 848  38  14  41   0   1]\n",
            " [  1   1  14 107  13 723  11  23   1   0]\n",
            " [  6   5  40  52  31  25 907   5   3   3]\n",
            " [  1   1  12  24  22  33   4 852   0   0]\n",
            " [ 33  15   2  18   9   6   6   6 910  24]\n",
            " [ 17  46   7  18   5  16   5  14  10 897]]\n"
          ]
        }
      ]
    },
    {
      "cell_type": "code",
      "source": [
        "from sklearn.metrics import roc_curve\n",
        "import matplotlib.pyplot as plt"
      ],
      "metadata": {
        "id": "PrxfsywRzeJI"
      },
      "execution_count": null,
      "outputs": []
    },
    {
      "cell_type": "code",
      "source": [
        "print(mean_acc_list)"
      ],
      "metadata": {
        "id": "tibPh6NpAbbZ"
      },
      "execution_count": null,
      "outputs": []
    },
    {
      "cell_type": "code",
      "source": [
        "(X_train, y_train), (X_test, y_test) = cifar10.load_data()"
      ],
      "metadata": {
        "id": "iJkHlqk1dQ91"
      },
      "execution_count": null,
      "outputs": []
    },
    {
      "cell_type": "code",
      "source": [
        "output = model(X_train)"
      ],
      "metadata": {
        "id": "FBVH4-ZW8oVM"
      },
      "execution_count": null,
      "outputs": []
    },
    {
      "cell_type": "code",
      "source": [
        "from PIL import Image\n",
        "import random\n",
        "from sklearn.metrics import roc_curve\n",
        "import matplotlib.pyplot as plt\n",
        "from keras.datasets import cifar10"
      ],
      "metadata": {
        "id": "4DLTWufhK0-y"
      },
      "execution_count": null,
      "outputs": []
    },
    {
      "cell_type": "code",
      "source": [
        "(X_train, y_train), (X_test, y_test) = cifar10.load_data()"
      ],
      "metadata": {
        "colab": {
          "base_uri": "https://localhost:8080/"
        },
        "id": "70W4_0UyKVZ1",
        "outputId": "1617137b-0847-4cb7-cf67-02191f92086f"
      },
      "execution_count": null,
      "outputs": [
        {
          "output_type": "stream",
          "name": "stdout",
          "text": [
            "Downloading data from https://www.cs.toronto.edu/~kriz/cifar-10-python.tar.gz\n",
            "170498071/170498071 [==============================] - 13s 0us/step\n"
          ]
        }
      ]
    },
    {
      "cell_type": "code",
      "source": [
        "#評価用\n",
        "with torch.no_grad():\n",
        "  pos = 1\n",
        "#index = 0\n",
        "  index = random.randint(0, X_test.shape[0]/2)\n",
        "  i = index\n",
        "\n",
        "# plt figure set to 16inch x 16inch(1600pixel x 1600 pixel). \n",
        "  plt.figure(figsize=(16,5))\n",
        "\n",
        "# draw cifar10 images and label names\n",
        "  for img in X_test[index:index+10]:\n",
        "      plt.subplot(3, 10, pos)\n",
        "      pos += 1\n",
        "      i += 1\n",
        "      #img = Image.fromarray(img)\n",
        "      \"\"\"\n",
        "      img_output = transforms.Compose([\n",
        "      transforms.Resize((224, 224)), \n",
        "      transforms.ToTensor(),\n",
        "      transforms.Normalize(0.5, 0.5),\n",
        "      ])(img).unsqueeze(0)\n",
        "      \"\"\"\n",
        "      model=model.cpu()\n",
        "      outputs = model(img)\n",
        "      output=outputs.detach().numpy()\n",
        "\n",
        "      label_max=np.argmax(output)\n",
        "      pred=torch.max(outputs)\n",
        "      print('No1.label_name：', classes[int(label_max)]) # 予想ラベル（最も確率の高い要素）\n",
        "      plt.imshow(img)\n",
        "      plt.axis('off')\n",
        "      plt.title(classes[int(label_max)])   \n",
        "      print('No1.number_pred' , pred)\n",
        "     "
      ],
      "metadata": {
        "colab": {
          "base_uri": "https://localhost:8080/",
          "height": 587
        },
        "id": "s5BPE0tOJvZg",
        "outputId": "9dc52ebc-9510-4240-c4ba-755253b9beda"
      },
      "execution_count": null,
      "outputs": [
        {
          "output_type": "error",
          "ename": "TypeError",
          "evalue": "ignored",
          "traceback": [
            "\u001b[0;31m---------------------------------------------------------------------------\u001b[0m",
            "\u001b[0;31mTypeError\u001b[0m                                 Traceback (most recent call last)",
            "\u001b[0;32m<ipython-input-19-e8ba4759e00d>\u001b[0m in \u001b[0;36m<module>\u001b[0;34m\u001b[0m\n\u001b[1;32m     23\u001b[0m       \"\"\"\n\u001b[1;32m     24\u001b[0m       \u001b[0mmodel\u001b[0m\u001b[0;34m=\u001b[0m\u001b[0mmodel\u001b[0m\u001b[0;34m.\u001b[0m\u001b[0mcpu\u001b[0m\u001b[0;34m(\u001b[0m\u001b[0;34m)\u001b[0m\u001b[0;34m\u001b[0m\u001b[0;34m\u001b[0m\u001b[0m\n\u001b[0;32m---> 25\u001b[0;31m       \u001b[0moutputs\u001b[0m \u001b[0;34m=\u001b[0m \u001b[0mmodel\u001b[0m\u001b[0;34m(\u001b[0m\u001b[0mimg\u001b[0m\u001b[0;34m)\u001b[0m\u001b[0;34m\u001b[0m\u001b[0;34m\u001b[0m\u001b[0m\n\u001b[0m\u001b[1;32m     26\u001b[0m       \u001b[0moutput\u001b[0m\u001b[0;34m=\u001b[0m\u001b[0moutputs\u001b[0m\u001b[0;34m.\u001b[0m\u001b[0mdetach\u001b[0m\u001b[0;34m(\u001b[0m\u001b[0;34m)\u001b[0m\u001b[0;34m.\u001b[0m\u001b[0mnumpy\u001b[0m\u001b[0;34m(\u001b[0m\u001b[0;34m)\u001b[0m\u001b[0;34m\u001b[0m\u001b[0;34m\u001b[0m\u001b[0m\n\u001b[1;32m     27\u001b[0m \u001b[0;34m\u001b[0m\u001b[0m\n",
            "\u001b[0;32m/usr/local/lib/python3.8/dist-packages/torch/nn/modules/module.py\u001b[0m in \u001b[0;36m_call_impl\u001b[0;34m(self, *input, **kwargs)\u001b[0m\n\u001b[1;32m   1192\u001b[0m         if not (self._backward_hooks or self._forward_hooks or self._forward_pre_hooks or _global_backward_hooks\n\u001b[1;32m   1193\u001b[0m                 or _global_forward_hooks or _global_forward_pre_hooks):\n\u001b[0;32m-> 1194\u001b[0;31m             \u001b[0;32mreturn\u001b[0m \u001b[0mforward_call\u001b[0m\u001b[0;34m(\u001b[0m\u001b[0;34m*\u001b[0m\u001b[0minput\u001b[0m\u001b[0;34m,\u001b[0m \u001b[0;34m**\u001b[0m\u001b[0mkwargs\u001b[0m\u001b[0;34m)\u001b[0m\u001b[0;34m\u001b[0m\u001b[0;34m\u001b[0m\u001b[0m\n\u001b[0m\u001b[1;32m   1195\u001b[0m         \u001b[0;31m# Do not call functions when jit is used\u001b[0m\u001b[0;34m\u001b[0m\u001b[0;34m\u001b[0m\u001b[0;34m\u001b[0m\u001b[0m\n\u001b[1;32m   1196\u001b[0m         \u001b[0mfull_backward_hooks\u001b[0m\u001b[0;34m,\u001b[0m \u001b[0mnon_full_backward_hooks\u001b[0m \u001b[0;34m=\u001b[0m \u001b[0;34m[\u001b[0m\u001b[0;34m]\u001b[0m\u001b[0;34m,\u001b[0m \u001b[0;34m[\u001b[0m\u001b[0;34m]\u001b[0m\u001b[0;34m\u001b[0m\u001b[0;34m\u001b[0m\u001b[0m\n",
            "\u001b[0;32m<ipython-input-4-09a234881c9e>\u001b[0m in \u001b[0;36mforward\u001b[0;34m(self, x)\u001b[0m\n\u001b[1;32m     36\u001b[0m \u001b[0;34m\u001b[0m\u001b[0m\n\u001b[1;32m     37\u001b[0m     \u001b[0;32mdef\u001b[0m \u001b[0mforward\u001b[0m\u001b[0;34m(\u001b[0m\u001b[0mself\u001b[0m\u001b[0;34m,\u001b[0m \u001b[0mx\u001b[0m\u001b[0;34m)\u001b[0m\u001b[0;34m:\u001b[0m\u001b[0;34m\u001b[0m\u001b[0;34m\u001b[0m\u001b[0m\n\u001b[0;32m---> 38\u001b[0;31m         \u001b[0mx\u001b[0m \u001b[0;34m=\u001b[0m \u001b[0mself\u001b[0m\u001b[0;34m.\u001b[0m\u001b[0mconv1\u001b[0m\u001b[0;34m(\u001b[0m\u001b[0mx\u001b[0m\u001b[0;34m)\u001b[0m\u001b[0;34m\u001b[0m\u001b[0;34m\u001b[0m\u001b[0m\n\u001b[0m\u001b[1;32m     39\u001b[0m         \u001b[0mx\u001b[0m \u001b[0;34m=\u001b[0m \u001b[0mself\u001b[0m\u001b[0;34m.\u001b[0m\u001b[0mbn1\u001b[0m\u001b[0;34m(\u001b[0m\u001b[0mx\u001b[0m\u001b[0;34m)\u001b[0m\u001b[0;34m\u001b[0m\u001b[0;34m\u001b[0m\u001b[0m\n\u001b[1;32m     40\u001b[0m         \u001b[0mx\u001b[0m \u001b[0;34m=\u001b[0m \u001b[0mself\u001b[0m\u001b[0;34m.\u001b[0m\u001b[0mrelu\u001b[0m\u001b[0;34m(\u001b[0m\u001b[0mx\u001b[0m\u001b[0;34m)\u001b[0m\u001b[0;34m\u001b[0m\u001b[0;34m\u001b[0m\u001b[0m\n",
            "\u001b[0;32m/usr/local/lib/python3.8/dist-packages/torch/nn/modules/module.py\u001b[0m in \u001b[0;36m_call_impl\u001b[0;34m(self, *input, **kwargs)\u001b[0m\n\u001b[1;32m   1192\u001b[0m         if not (self._backward_hooks or self._forward_hooks or self._forward_pre_hooks or _global_backward_hooks\n\u001b[1;32m   1193\u001b[0m                 or _global_forward_hooks or _global_forward_pre_hooks):\n\u001b[0;32m-> 1194\u001b[0;31m             \u001b[0;32mreturn\u001b[0m \u001b[0mforward_call\u001b[0m\u001b[0;34m(\u001b[0m\u001b[0;34m*\u001b[0m\u001b[0minput\u001b[0m\u001b[0;34m,\u001b[0m \u001b[0;34m**\u001b[0m\u001b[0mkwargs\u001b[0m\u001b[0;34m)\u001b[0m\u001b[0;34m\u001b[0m\u001b[0;34m\u001b[0m\u001b[0m\n\u001b[0m\u001b[1;32m   1195\u001b[0m         \u001b[0;31m# Do not call functions when jit is used\u001b[0m\u001b[0;34m\u001b[0m\u001b[0;34m\u001b[0m\u001b[0;34m\u001b[0m\u001b[0m\n\u001b[1;32m   1196\u001b[0m         \u001b[0mfull_backward_hooks\u001b[0m\u001b[0;34m,\u001b[0m \u001b[0mnon_full_backward_hooks\u001b[0m \u001b[0;34m=\u001b[0m \u001b[0;34m[\u001b[0m\u001b[0;34m]\u001b[0m\u001b[0;34m,\u001b[0m \u001b[0;34m[\u001b[0m\u001b[0;34m]\u001b[0m\u001b[0;34m\u001b[0m\u001b[0;34m\u001b[0m\u001b[0m\n",
            "\u001b[0;32m/usr/local/lib/python3.8/dist-packages/torch/nn/modules/conv.py\u001b[0m in \u001b[0;36mforward\u001b[0;34m(self, input)\u001b[0m\n\u001b[1;32m    461\u001b[0m \u001b[0;34m\u001b[0m\u001b[0m\n\u001b[1;32m    462\u001b[0m     \u001b[0;32mdef\u001b[0m \u001b[0mforward\u001b[0m\u001b[0;34m(\u001b[0m\u001b[0mself\u001b[0m\u001b[0;34m,\u001b[0m \u001b[0minput\u001b[0m\u001b[0;34m:\u001b[0m \u001b[0mTensor\u001b[0m\u001b[0;34m)\u001b[0m \u001b[0;34m->\u001b[0m \u001b[0mTensor\u001b[0m\u001b[0;34m:\u001b[0m\u001b[0;34m\u001b[0m\u001b[0;34m\u001b[0m\u001b[0m\n\u001b[0;32m--> 463\u001b[0;31m         \u001b[0;32mreturn\u001b[0m \u001b[0mself\u001b[0m\u001b[0;34m.\u001b[0m\u001b[0m_conv_forward\u001b[0m\u001b[0;34m(\u001b[0m\u001b[0minput\u001b[0m\u001b[0;34m,\u001b[0m \u001b[0mself\u001b[0m\u001b[0;34m.\u001b[0m\u001b[0mweight\u001b[0m\u001b[0;34m,\u001b[0m \u001b[0mself\u001b[0m\u001b[0;34m.\u001b[0m\u001b[0mbias\u001b[0m\u001b[0;34m)\u001b[0m\u001b[0;34m\u001b[0m\u001b[0;34m\u001b[0m\u001b[0m\n\u001b[0m\u001b[1;32m    464\u001b[0m \u001b[0;34m\u001b[0m\u001b[0m\n\u001b[1;32m    465\u001b[0m \u001b[0;32mclass\u001b[0m \u001b[0mConv3d\u001b[0m\u001b[0;34m(\u001b[0m\u001b[0m_ConvNd\u001b[0m\u001b[0;34m)\u001b[0m\u001b[0;34m:\u001b[0m\u001b[0;34m\u001b[0m\u001b[0;34m\u001b[0m\u001b[0m\n",
            "\u001b[0;32m/usr/local/lib/python3.8/dist-packages/torch/nn/modules/conv.py\u001b[0m in \u001b[0;36m_conv_forward\u001b[0;34m(self, input, weight, bias)\u001b[0m\n\u001b[1;32m    457\u001b[0m                             \u001b[0mweight\u001b[0m\u001b[0;34m,\u001b[0m \u001b[0mbias\u001b[0m\u001b[0;34m,\u001b[0m \u001b[0mself\u001b[0m\u001b[0;34m.\u001b[0m\u001b[0mstride\u001b[0m\u001b[0;34m,\u001b[0m\u001b[0;34m\u001b[0m\u001b[0;34m\u001b[0m\u001b[0m\n\u001b[1;32m    458\u001b[0m                             _pair(0), self.dilation, self.groups)\n\u001b[0;32m--> 459\u001b[0;31m         return F.conv2d(input, weight, bias, self.stride,\n\u001b[0m\u001b[1;32m    460\u001b[0m                         self.padding, self.dilation, self.groups)\n\u001b[1;32m    461\u001b[0m \u001b[0;34m\u001b[0m\u001b[0m\n",
            "\u001b[0;31mTypeError\u001b[0m: conv2d() received an invalid combination of arguments - got (numpy.ndarray, Parameter, NoneType, tuple, tuple, tuple, int), but expected one of:\n * (Tensor input, Tensor weight, Tensor bias, tuple of ints stride, tuple of ints padding, tuple of ints dilation, int groups)\n      didn't match because some of the arguments have invalid types: (!numpy.ndarray!, !Parameter!, !NoneType!, !tuple!, !tuple!, !tuple!, int)\n * (Tensor input, Tensor weight, Tensor bias, tuple of ints stride, str padding, tuple of ints dilation, int groups)\n      didn't match because some of the arguments have invalid types: (!numpy.ndarray!, !Parameter!, !NoneType!, !tuple!, !tuple!, !tuple!, int)\n"
          ]
        },
        {
          "output_type": "display_data",
          "data": {
            "text/plain": [
              "<Figure size 1152x360 with 1 Axes>"
            ],
            "image/png": "[encoded data removed]"
          },
          "metadata": {
            "needs_background": "light"
          }
        }
      ]
    },
    {
      "cell_type": "code",
      "source": [
        "prob_pred_ResNet = model.predict(X_test)"
      ],
      "metadata": {
        "id": "17kM9kQrUbxV"
      },
      "execution_count": null,
      "outputs": []
    },
    {
      "cell_type": "code",
      "source": [
        "#predect_probaがResNetBasicBlockに非対応\n",
        "pos_prob = model.predict_proba(mean_acc_list)[:, 1]"
      ],
      "metadata": {
        "id": "R6oY6x5bzltA"
      },
      "execution_count": null,
      "outputs": []
    },
    {
      "cell_type": "code",
      "source": [
        "roc = roc_curve(X_test, mean_acc_list)"
      ],
      "metadata": {
        "id": "86o4Bw_uCWCg"
      },
      "execution_count": null,
      "outputs": []
    },
    {
      "cell_type": "code",
      "source": [
        "fpr, tpr, thresholds = roc_curve(y_train, mean_acc_list)"
      ],
      "metadata": {
        "id": "f_AD7R0bzrwX"
      },
      "execution_count": null,
      "outputs": []
    },
    {
      "cell_type": "code",
      "source": [
        "fpr, tpr, thresholds = roc_curve(y_test, proba_lr)\n",
        "plt.plot(fpr, tpr, color=colors[0], label='logistic')\n",
        "plt.fill_between(fpr, tpr, 0, color=colors[0], alpha=0.1)\n",
        "\n",
        "fpr, tpr, thresholds = roc_curve(y_test, proba_rf)\n",
        "plt.plot(fpr, tpr, color=colors[1], label='random forestss')\n",
        "plt.fill_between(fpr, tpr, 0, color=colors[1], alpha=0.1)\n",
        "\n",
        "plt.xlabel('FPR')\n",
        "plt.ylabel('TPR')\n",
        "plt.legend()\n",
        "plt.show()\n",
        "\n",
        "# AUCの計算\n",
        "print(f'ロジスティック回帰モデル AUR: {roc_auc_score(y_test, proba_lr):.4f}')\n",
        "print(f'ランダムフォレストモデル AUR: {roc_auc_score(y_test, proba_rf):.4f}')"
      ],
      "metadata": {
        "id": "B0JKfzTqztBA"
      },
      "execution_count": null,
      "outputs": []
    },
    {
      "cell_type": "code",
      "source": [
        "plt.plot(fpr, tpr, marker='o')\n",
        "plt.xlabel('FPR: False positive rate')\n",
        "plt.ylabel('TPR: True positive rate')\n",
        "plt.grid()\n",
        "plt.savefig('data/dst/sklearn_roc_curve.png')"
      ],
      "metadata": {
        "id": "JkPmoN9uzxyx"
      },
      "execution_count": null,
      "outputs": []
    }
  ]
}